{
 "cells": [
  {
   "cell_type": "code",
   "execution_count": 86,
   "metadata": {},
   "outputs": [],
   "source": [
    "import pandas as pd\n",
    "import numpy as np\n",
    "import re"
   ]
  },
  {
   "cell_type": "code",
   "execution_count": 87,
   "metadata": {},
   "outputs": [],
   "source": [
    "df = pd.read_csv('./data/imdb_master.csv',encoding=\"ISO-8859-1\")"
   ]
  },
  {
   "cell_type": "code",
   "execution_count": 88,
   "metadata": {},
   "outputs": [
    {
     "data": {
      "text/html": [
       "<div>\n",
       "<style scoped>\n",
       "    .dataframe tbody tr th:only-of-type {\n",
       "        vertical-align: middle;\n",
       "    }\n",
       "\n",
       "    .dataframe tbody tr th {\n",
       "        vertical-align: top;\n",
       "    }\n",
       "\n",
       "    .dataframe thead th {\n",
       "        text-align: right;\n",
       "    }\n",
       "</style>\n",
       "<table border=\"1\" class=\"dataframe\">\n",
       "  <thead>\n",
       "    <tr style=\"text-align: right;\">\n",
       "      <th></th>\n",
       "      <th>Unnamed: 0</th>\n",
       "      <th>type</th>\n",
       "      <th>review</th>\n",
       "      <th>label</th>\n",
       "      <th>file</th>\n",
       "    </tr>\n",
       "  </thead>\n",
       "  <tbody>\n",
       "    <tr>\n",
       "      <th>0</th>\n",
       "      <td>0</td>\n",
       "      <td>test</td>\n",
       "      <td>Once again Mr. Costner has dragged out a movie...</td>\n",
       "      <td>neg</td>\n",
       "      <td>0_2.txt</td>\n",
       "    </tr>\n",
       "    <tr>\n",
       "      <th>1</th>\n",
       "      <td>1</td>\n",
       "      <td>test</td>\n",
       "      <td>This is an example of why the majority of acti...</td>\n",
       "      <td>neg</td>\n",
       "      <td>10000_4.txt</td>\n",
       "    </tr>\n",
       "    <tr>\n",
       "      <th>2</th>\n",
       "      <td>2</td>\n",
       "      <td>test</td>\n",
       "      <td>First of all I hate those moronic rappers, who...</td>\n",
       "      <td>neg</td>\n",
       "      <td>10001_1.txt</td>\n",
       "    </tr>\n",
       "    <tr>\n",
       "      <th>3</th>\n",
       "      <td>3</td>\n",
       "      <td>test</td>\n",
       "      <td>Not even the Beatles could write songs everyon...</td>\n",
       "      <td>neg</td>\n",
       "      <td>10002_3.txt</td>\n",
       "    </tr>\n",
       "    <tr>\n",
       "      <th>4</th>\n",
       "      <td>4</td>\n",
       "      <td>test</td>\n",
       "      <td>Brass pictures (movies is not a fitting word f...</td>\n",
       "      <td>neg</td>\n",
       "      <td>10003_3.txt</td>\n",
       "    </tr>\n",
       "  </tbody>\n",
       "</table>\n",
       "</div>"
      ],
      "text/plain": [
       "   Unnamed: 0  type                                             review label  \\\n",
       "0           0  test  Once again Mr. Costner has dragged out a movie...   neg   \n",
       "1           1  test  This is an example of why the majority of acti...   neg   \n",
       "2           2  test  First of all I hate those moronic rappers, who...   neg   \n",
       "3           3  test  Not even the Beatles could write songs everyon...   neg   \n",
       "4           4  test  Brass pictures (movies is not a fitting word f...   neg   \n",
       "\n",
       "          file  \n",
       "0      0_2.txt  \n",
       "1  10000_4.txt  \n",
       "2  10001_1.txt  \n",
       "3  10002_3.txt  \n",
       "4  10003_3.txt  "
      ]
     },
     "execution_count": 88,
     "metadata": {},
     "output_type": "execute_result"
    }
   ],
   "source": [
    "df.head()"
   ]
  },
  {
   "cell_type": "code",
   "execution_count": 89,
   "metadata": {},
   "outputs": [
    {
     "data": {
      "text/html": [
       "<div>\n",
       "<style scoped>\n",
       "    .dataframe tbody tr th:only-of-type {\n",
       "        vertical-align: middle;\n",
       "    }\n",
       "\n",
       "    .dataframe tbody tr th {\n",
       "        vertical-align: top;\n",
       "    }\n",
       "\n",
       "    .dataframe thead th {\n",
       "        text-align: right;\n",
       "    }\n",
       "</style>\n",
       "<table border=\"1\" class=\"dataframe\">\n",
       "  <thead>\n",
       "    <tr style=\"text-align: right;\">\n",
       "      <th></th>\n",
       "      <th>type</th>\n",
       "      <th>review</th>\n",
       "      <th>label</th>\n",
       "    </tr>\n",
       "  </thead>\n",
       "  <tbody>\n",
       "    <tr>\n",
       "      <th>0</th>\n",
       "      <td>test</td>\n",
       "      <td>Once again Mr. Costner has dragged out a movie...</td>\n",
       "      <td>neg</td>\n",
       "    </tr>\n",
       "    <tr>\n",
       "      <th>1</th>\n",
       "      <td>test</td>\n",
       "      <td>This is an example of why the majority of acti...</td>\n",
       "      <td>neg</td>\n",
       "    </tr>\n",
       "    <tr>\n",
       "      <th>2</th>\n",
       "      <td>test</td>\n",
       "      <td>First of all I hate those moronic rappers, who...</td>\n",
       "      <td>neg</td>\n",
       "    </tr>\n",
       "    <tr>\n",
       "      <th>3</th>\n",
       "      <td>test</td>\n",
       "      <td>Not even the Beatles could write songs everyon...</td>\n",
       "      <td>neg</td>\n",
       "    </tr>\n",
       "    <tr>\n",
       "      <th>4</th>\n",
       "      <td>test</td>\n",
       "      <td>Brass pictures (movies is not a fitting word f...</td>\n",
       "      <td>neg</td>\n",
       "    </tr>\n",
       "  </tbody>\n",
       "</table>\n",
       "</div>"
      ],
      "text/plain": [
       "   type                                             review label\n",
       "0  test  Once again Mr. Costner has dragged out a movie...   neg\n",
       "1  test  This is an example of why the majority of acti...   neg\n",
       "2  test  First of all I hate those moronic rappers, who...   neg\n",
       "3  test  Not even the Beatles could write songs everyon...   neg\n",
       "4  test  Brass pictures (movies is not a fitting word f...   neg"
      ]
     },
     "execution_count": 89,
     "metadata": {},
     "output_type": "execute_result"
    }
   ],
   "source": [
    "#remove columns that are not required\n",
    "df.drop(['Unnamed: 0','file'], axis=1, inplace=True)\n",
    "df.head()"
   ]
  },
  {
   "cell_type": "code",
   "execution_count": 90,
   "metadata": {},
   "outputs": [
    {
     "name": "stdout",
     "output_type": "stream",
     "text": [
      "No. of observations in train set: 75000\n",
      "No. of observations in test set: 25000\n"
     ]
    }
   ],
   "source": [
    "#split dataframe into train and test sets\n",
    "\n",
    "train = df[df['type']== 'train']\n",
    "print('No. of observations in train set: ' + str(len(train)))\n",
    "\n",
    "test = df[df['type']== 'test']\n",
    "print('No. of observations in test set: ' + str(len(test)))\n"
   ]
  },
  {
   "cell_type": "code",
   "execution_count": 91,
   "metadata": {},
   "outputs": [
    {
     "name": "stdout",
     "output_type": "stream",
     "text": [
      "No. of observations in train set after removing unlabelled samples: 25000\n",
      "No. of observations in test set after removing unlabelled samples: 25000\n"
     ]
    }
   ],
   "source": [
    "# remove unlabelled samples\n",
    "\n",
    "train = train[train['label'] != 'unsup']\n",
    "test = test[test['label'] != 'unsup']\n",
    "\n",
    "print('No. of observations in train set after removing unlabelled samples: ' + str(len(train)))\n",
    "print('No. of observations in test set after removing unlabelled samples: ' + str(len(test)))"
   ]
  },
  {
   "cell_type": "markdown",
   "metadata": {},
   "source": [
    "### Text preprocessing"
   ]
  },
  {
   "cell_type": "code",
   "execution_count": 92,
   "metadata": {},
   "outputs": [
    {
     "data": {
      "text/html": [
       "<div>\n",
       "<style scoped>\n",
       "    .dataframe tbody tr th:only-of-type {\n",
       "        vertical-align: middle;\n",
       "    }\n",
       "\n",
       "    .dataframe tbody tr th {\n",
       "        vertical-align: top;\n",
       "    }\n",
       "\n",
       "    .dataframe thead th {\n",
       "        text-align: right;\n",
       "    }\n",
       "</style>\n",
       "<table border=\"1\" class=\"dataframe\">\n",
       "  <thead>\n",
       "    <tr style=\"text-align: right;\">\n",
       "      <th></th>\n",
       "      <th>type</th>\n",
       "      <th>review</th>\n",
       "      <th>label</th>\n",
       "    </tr>\n",
       "  </thead>\n",
       "  <tbody>\n",
       "    <tr>\n",
       "      <th>25000</th>\n",
       "      <td>train</td>\n",
       "      <td>Story of a man who has unnatural feelings for ...</td>\n",
       "      <td>neg</td>\n",
       "    </tr>\n",
       "    <tr>\n",
       "      <th>25001</th>\n",
       "      <td>train</td>\n",
       "      <td>Airport '77 starts as a brand new luxury 747 p...</td>\n",
       "      <td>neg</td>\n",
       "    </tr>\n",
       "    <tr>\n",
       "      <th>25002</th>\n",
       "      <td>train</td>\n",
       "      <td>This film lacked something I couldn't put my f...</td>\n",
       "      <td>neg</td>\n",
       "    </tr>\n",
       "    <tr>\n",
       "      <th>25003</th>\n",
       "      <td>train</td>\n",
       "      <td>Sorry everyone,,, I know this is supposed to b...</td>\n",
       "      <td>neg</td>\n",
       "    </tr>\n",
       "    <tr>\n",
       "      <th>25004</th>\n",
       "      <td>train</td>\n",
       "      <td>When I was little my parents took me along to ...</td>\n",
       "      <td>neg</td>\n",
       "    </tr>\n",
       "  </tbody>\n",
       "</table>\n",
       "</div>"
      ],
      "text/plain": [
       "        type                                             review label\n",
       "25000  train  Story of a man who has unnatural feelings for ...   neg\n",
       "25001  train  Airport '77 starts as a brand new luxury 747 p...   neg\n",
       "25002  train  This film lacked something I couldn't put my f...   neg\n",
       "25003  train  Sorry everyone,,, I know this is supposed to b...   neg\n",
       "25004  train  When I was little my parents took me along to ...   neg"
      ]
     },
     "execution_count": 92,
     "metadata": {},
     "output_type": "execute_result"
    }
   ],
   "source": [
    "train.head()"
   ]
  },
  {
   "cell_type": "code",
   "execution_count": 93,
   "metadata": {},
   "outputs": [
    {
     "data": {
      "text/html": [
       "<div>\n",
       "<style scoped>\n",
       "    .dataframe tbody tr th:only-of-type {\n",
       "        vertical-align: middle;\n",
       "    }\n",
       "\n",
       "    .dataframe tbody tr th {\n",
       "        vertical-align: top;\n",
       "    }\n",
       "\n",
       "    .dataframe thead th {\n",
       "        text-align: right;\n",
       "    }\n",
       "</style>\n",
       "<table border=\"1\" class=\"dataframe\">\n",
       "  <thead>\n",
       "    <tr style=\"text-align: right;\">\n",
       "      <th></th>\n",
       "      <th>type</th>\n",
       "      <th>review</th>\n",
       "      <th>label</th>\n",
       "    </tr>\n",
       "  </thead>\n",
       "  <tbody>\n",
       "    <tr>\n",
       "      <th>49995</th>\n",
       "      <td>train</td>\n",
       "      <td>Seeing as the vote average was pretty low, and...</td>\n",
       "      <td>pos</td>\n",
       "    </tr>\n",
       "    <tr>\n",
       "      <th>49996</th>\n",
       "      <td>train</td>\n",
       "      <td>The plot had some wretched, unbelievable twist...</td>\n",
       "      <td>pos</td>\n",
       "    </tr>\n",
       "    <tr>\n",
       "      <th>49997</th>\n",
       "      <td>train</td>\n",
       "      <td>I am amazed at how this movie(and most others ...</td>\n",
       "      <td>pos</td>\n",
       "    </tr>\n",
       "    <tr>\n",
       "      <th>49998</th>\n",
       "      <td>train</td>\n",
       "      <td>A Christmas Together actually came before my t...</td>\n",
       "      <td>pos</td>\n",
       "    </tr>\n",
       "    <tr>\n",
       "      <th>49999</th>\n",
       "      <td>train</td>\n",
       "      <td>Working-class romantic drama from director Mar...</td>\n",
       "      <td>pos</td>\n",
       "    </tr>\n",
       "  </tbody>\n",
       "</table>\n",
       "</div>"
      ],
      "text/plain": [
       "        type                                             review label\n",
       "49995  train  Seeing as the vote average was pretty low, and...   pos\n",
       "49996  train  The plot had some wretched, unbelievable twist...   pos\n",
       "49997  train  I am amazed at how this movie(and most others ...   pos\n",
       "49998  train  A Christmas Together actually came before my t...   pos\n",
       "49999  train  Working-class romantic drama from director Mar...   pos"
      ]
     },
     "execution_count": 93,
     "metadata": {},
     "output_type": "execute_result"
    }
   ],
   "source": [
    "train.tail()"
   ]
  },
  {
   "cell_type": "code",
   "execution_count": 94,
   "metadata": {},
   "outputs": [
    {
     "data": {
      "text/plain": [
       "pos    12500\n",
       "neg    12500\n",
       "Name: label, dtype: int64"
      ]
     },
     "execution_count": 94,
     "metadata": {},
     "output_type": "execute_result"
    }
   ],
   "source": [
    "train['label'].value_counts()"
   ]
  },
  {
   "cell_type": "code",
   "execution_count": 95,
   "metadata": {},
   "outputs": [
    {
     "data": {
      "text/plain": [
       "12500"
      ]
     },
     "execution_count": 95,
     "metadata": {},
     "output_type": "execute_result"
    }
   ],
   "source": [
    "train['label'] = train['label'].map({'pos': 1, 'neg': 0})\n",
    "len(train[train['label'] == 0])"
   ]
  },
  {
   "cell_type": "code",
   "execution_count": 96,
   "metadata": {},
   "outputs": [],
   "source": [
    "test['label'] = test['label'].map({'pos': 1, 'neg': 0})"
   ]
  },
  {
   "cell_type": "code",
   "execution_count": 97,
   "metadata": {},
   "outputs": [
    {
     "data": {
      "text/plain": [
       "12500"
      ]
     },
     "execution_count": 97,
     "metadata": {},
     "output_type": "execute_result"
    }
   ],
   "source": [
    "len(train[train['label'] == 1])"
   ]
  },
  {
   "cell_type": "code",
   "execution_count": 98,
   "metadata": {},
   "outputs": [
    {
     "data": {
      "text/plain": [
       "1    12500\n",
       "0    12500\n",
       "Name: label, dtype: int64"
      ]
     },
     "execution_count": 98,
     "metadata": {},
     "output_type": "execute_result"
    }
   ],
   "source": [
    "train['label'].value_counts()"
   ]
  },
  {
   "cell_type": "code",
   "execution_count": 99,
   "metadata": {},
   "outputs": [
    {
     "name": "stderr",
     "output_type": "stream",
     "text": [
      "[nltk_data] Downloading package punkt to /home/jovyan/nltk_data...\n",
      "[nltk_data]   Package punkt is already up-to-date!\n",
      "[nltk_data] Downloading package stopwords to /home/jovyan/nltk_data...\n",
      "[nltk_data]   Package stopwords is already up-to-date!\n"
     ]
    }
   ],
   "source": [
    "#lower casing\n",
    "def lower_case(text):\n",
    "    return text.lower()\n",
    "\n",
    "\n",
    "#remove html_tags\n",
    "def remove_htmltags(text):\n",
    "    html_pattern = re.compile('<.*?>')\n",
    "    return html_pattern.sub(r'', text)\n",
    "\n",
    "\n",
    "#remove numbers\n",
    "def remove_numbers(text):\n",
    "    output = re.sub(r'\\d+', '', text)\n",
    "    return output\n",
    "\n",
    "# remove punctuation\n",
    "\n",
    "import string\n",
    "def remove_punctuation(text):\n",
    "    text_p = \"\".join([char for char in text if char not in string.punctuation])\n",
    "    return text_p\n",
    "\n",
    "#tokenize text\n",
    "\n",
    "import nltk\n",
    "nltk.download('punkt')\n",
    "from nltk import word_tokenize\n",
    "\n",
    "def tokenize(text):\n",
    "    words = word_tokenize(text)\n",
    "    return words\n",
    "\n",
    "#remove stopwords\n",
    "from nltk.corpus import stopwords\n",
    "nltk.download('stopwords')\n",
    "stop_words = stopwords.words('english')\n",
    "\n",
    "def remove_stopwords(text):\n",
    "    filtered_words = [word for word in text if word not in stop_words]\n",
    "    return filtered_words\n",
    "\n",
    "#stemming\n",
    "from nltk.stem.porter import PorterStemmer\n",
    "\n",
    "stemmer = PorterStemmer()\n",
    "\n",
    "def stem_words(text):\n",
    "    stemmed = [stemmer.stem(word) for word in text]\n",
    "    return stemmed\n"
   ]
  },
  {
   "cell_type": "code",
   "execution_count": 100,
   "metadata": {},
   "outputs": [],
   "source": [
    "class Preprocessor():\n",
    "    def __init__(self):\n",
    "        pass\n",
    "    \n",
    "    def preprocess(self,df_column, steps):\n",
    "        self.df_column = df_column\n",
    "        self.steps = steps\n",
    "    \n",
    "        if 'lower_case' in self.steps:\n",
    "            self.df_column = self.df_column.apply(lambda x: lower_case(x))\n",
    "        \n",
    "        if 'remove_htmltags' in self.steps:\n",
    "            self.df_column = self.df_column.apply(lambda x: remove_htmltags(x))\n",
    "        \n",
    "        if 'remove_numbers' in self.steps:\n",
    "            self.df_column = self.df_column.apply(lambda x: remove_numbers(x))\n",
    "        \n",
    "        if 'remove_punctuation' in self.steps:\n",
    "            self.df_column = self.df_column.apply(lambda x: remove_punctuation(x))           \n",
    "        \n",
    "        if 'tokenize' in self.steps:\n",
    "            self.df_column = self.df_column.apply(lambda x: tokenize(x))\n",
    "        \n",
    "        if 'stopwords' in self.steps:\n",
    "            self.df_column = self.df_column.apply(lambda x: remove_stopwords(x))\n",
    "        \n",
    "        if 'stemming' in self.steps:\n",
    "            self.df_column = self.df_column.apply(lambda x: stem_words(x))\n",
    "            \n",
    "        return self.df_column    \n",
    "        \n",
    "          "
   ]
  },
  {
   "cell_type": "code",
   "execution_count": 101,
   "metadata": {},
   "outputs": [],
   "source": [
    "steps = ['lower_case','remove_html_tags','remove_numbers','remove_punctuation',\n",
    "        'tokenize','stopwords','stemming']\n",
    "processor = Preprocessor()\n",
    "train_processed = processor.preprocess(train['review'],steps)\n",
    "test_processed = processor.preprocess(test['review'],steps)"
   ]
  },
  {
   "cell_type": "code",
   "execution_count": 103,
   "metadata": {},
   "outputs": [],
   "source": [
    "from sklearn.feature_extraction.text import CountVectorizer\n",
    "\n",
    "def dummy(text):\n",
    "    return text\n",
    "\n",
    "\n",
    "train_reviews = list(train_processed)\n",
    "test_reviews = list(test_processed)\n",
    "\n",
    "cv = CountVectorizer(tokenizer=dummy,preprocessor=dummy, lowercase=False)\n",
    "X_train = cv.fit_transform(train_reviews)\n",
    "X_test = cv.transform(test_reviews)"
   ]
  },
  {
   "cell_type": "code",
   "execution_count": 106,
   "metadata": {},
   "outputs": [],
   "source": [
    "y_train = train['label']\n",
    "y_test = test['label']\n",
    "\n",
    "from sklearn.naive_bayes import MultinomialNB\n",
    "MNB = MultinomialNB()\n",
    "MNB.fit(X_train,y_train)\n",
    "ypred_train = MNB.predict(X_train)\n",
    "ypred_test = MNB.predict(X_test)"
   ]
  },
  {
   "cell_type": "code",
   "execution_count": 107,
   "metadata": {},
   "outputs": [
    {
     "name": "stdout",
     "output_type": "stream",
     "text": [
      "Sklearn Naive Bayes, train set F1-score: 91.0 %\n",
      "Sklearn Naive Bayes, test set F1-score: 80.7 %\n"
     ]
    }
   ],
   "source": [
    "from sklearn.metrics import f1_score\n",
    "train_score = f1_score(ypred_train,y_train)\n",
    "test_score = f1_score(ypred_test,y_test)\n",
    "print('Sklearn Naive Bayes, train set F1-score: {:.1f} %'.format(train_score*100))\n",
    "print('Sklearn Naive Bayes, test set F1-score: {:.1f} %'.format(test_score*100))"
   ]
  },
  {
   "cell_type": "code",
   "execution_count": 111,
   "metadata": {},
   "outputs": [],
   "source": [
    "class Naive_bayes():\n",
    "    def __init__(self):\n",
    "        pass\n",
    "    \n",
    "    def fit(self,X_train, y_train):\n",
    "        \n",
    "        self.X_train = X_train\n",
    "        self.y_train = y_train\n",
    "        \n",
    "        #prior probabilities\n",
    "        positive_class_prob = len(y_train[y_train==1])/len(y_train)\n",
    "        negative_class_prob = len(y_train[y_train==0])/len(y_train)\n",
    "        \n",
    "        #vocabulary size\n",
    "        V = X_train.shape[1]\n",
    "        \n",
    "        #posterior probabilities for each token in vocabulary\n",
    "        negative_matrix = X_train[0:12500,:]\n",
    "        positive_matrix = X_train[12500::,:]\n",
    "\n",
    "        positive_count = positive_matrix.sum(axis=0)\n",
    "        negative_count = negative_matrix.sum(axis=0)\n",
    "\n",
    "        positive_totalcount = positive_matrix.sum()\n",
    "        negative_totalcount = negative_matrix.sum()\n",
    "        \n",
    "        log_positive_probs = np.log10((positive_count+1)/(positive_totalcount +V))\n",
    "        log_negative_probs = np.log10((negative_count+1)/(negative_totalcount +V))\n",
    "        \n",
    "        self.positive_class_prob = positive_class_prob\n",
    "        self.negative_class_prob = negative_class_prob\n",
    "        self.log_positive_probs = log_positive_probs\n",
    "        self.log_negative_probs = log_negative_probs\n",
    "    \n",
    "    \n",
    "    def predict(self,X):\n",
    "        self.X = X\n",
    "\n",
    "        X_positive = X @ self.log_positive_probs.T + np.log10(self.positive_class_prob)\n",
    "        X_negative = X @ self.log_negative_probs.T + np.log10(self.negative_class_prob)\n",
    "        \n",
    "        bool_array = np.asarray(X_positive > X_negative).flatten()\n",
    "        ypred = bool_array.astype(int)\n",
    "        \n",
    "        return ypred\n",
    "           "
   ]
  },
  {
   "cell_type": "code",
   "execution_count": 112,
   "metadata": {},
   "outputs": [],
   "source": [
    "def f1_score(y_true,y_pred):\n",
    "    positives_index = list(y_true[y_true == 1].index)\n",
    "    negatives_index = list(y_true[y_true == 0].index)\n",
    "    \n",
    "    tp = y_pred[positives_index].sum()\n",
    "    tn = len(y_true[y_true == 0]) - y_pred[negatives_index].sum()\n",
    "    fp = y_pred[negatives_index].sum()\n",
    "    fn = len(y_true[y_true == 1]) - y_pred[positives_index].sum()\n",
    "    \n",
    "    f1_score = tp/(tp + 0.5*(fp + fn))\n",
    "    \n",
    "    return f1_score"
   ]
  },
  {
   "cell_type": "code",
   "execution_count": 113,
   "metadata": {},
   "outputs": [],
   "source": [
    "clf = Naive_bayes()\n",
    "clf.fit(X_train,y_train)\n",
    "ytrain_pred = clf.predict(X_train)\n",
    "ytest_pred = clf.predict(X_test)"
   ]
  },
  {
   "cell_type": "code",
   "execution_count": 114,
   "metadata": {},
   "outputs": [],
   "source": [
    "#reset index for y_train\n",
    "y_train_reset = y_train.reset_index(drop=True)"
   ]
  },
  {
   "cell_type": "code",
   "execution_count": 115,
   "metadata": {},
   "outputs": [
    {
     "name": "stdout",
     "output_type": "stream",
     "text": [
      "Naive Bayes implementation from scratch, train set F1-score: 91.0 % \n",
      "Naive Bayes implementation from scratch, test set F1-score: 80.7 %\n"
     ]
    }
   ],
   "source": [
    "train_f1 = f1_score(y_train_reset,ytrain_pred)\n",
    "test_f1 = f1_score(y_test,ytest_pred)\n",
    "print('Naive Bayes implementation from scratch, train set F1-score: {:.1f} % '.format(train_f1*100))\n",
    "print('Naive Bayes implementation from scratch, test set F1-score: {:.1f} %'.format(test_f1*100))"
   ]
  },
  {
   "cell_type": "code",
   "execution_count": null,
   "metadata": {},
   "outputs": [],
   "source": []
  }
 ],
 "metadata": {
  "kernelspec": {
   "display_name": "Python 3",
   "language": "python",
   "name": "python3"
  },
  "language_info": {
   "codemirror_mode": {
    "name": "ipython",
    "version": 3
   },
   "file_extension": ".py",
   "mimetype": "text/x-python",
   "name": "python",
   "nbconvert_exporter": "python",
   "pygments_lexer": "ipython3",
   "version": "3.7.3"
  }
 },
 "nbformat": 4,
 "nbformat_minor": 2
}
