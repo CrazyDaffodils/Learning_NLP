{
 "cells": [
  {
   "cell_type": "code",
   "execution_count": 326,
   "id": "670e7a80",
   "metadata": {},
   "outputs": [],
   "source": [
    "import pandas as pd\n",
    "import numpy as np\n",
    "import matplotlib.pyplot as plt\n",
    "import re\n",
    "import nltk\n",
    "from nltk.corpus import stopwords"
   ]
  },
  {
   "cell_type": "code",
   "execution_count": 327,
   "id": "167077eb",
   "metadata": {},
   "outputs": [],
   "source": [
    "unprocessed_df = pd.read_pickle('../data/unprocessed_dataframe')"
   ]
  },
  {
   "cell_type": "code",
   "execution_count": 328,
   "id": "9424ee66",
   "metadata": {},
   "outputs": [
    {
     "data": {
      "text/html": [
       "<div>\n",
       "<style scoped>\n",
       "    .dataframe tbody tr th:only-of-type {\n",
       "        vertical-align: middle;\n",
       "    }\n",
       "\n",
       "    .dataframe tbody tr th {\n",
       "        vertical-align: top;\n",
       "    }\n",
       "\n",
       "    .dataframe thead th {\n",
       "        text-align: right;\n",
       "    }\n",
       "</style>\n",
       "<table border=\"1\" class=\"dataframe\">\n",
       "  <thead>\n",
       "    <tr style=\"text-align: right;\">\n",
       "      <th></th>\n",
       "      <th>id</th>\n",
       "      <th>qid1</th>\n",
       "      <th>qid2</th>\n",
       "      <th>question1</th>\n",
       "      <th>question2</th>\n",
       "      <th>is_duplicate</th>\n",
       "    </tr>\n",
       "  </thead>\n",
       "  <tbody>\n",
       "    <tr>\n",
       "      <th>0</th>\n",
       "      <td>133273</td>\n",
       "      <td>213221</td>\n",
       "      <td>213222.0</td>\n",
       "      <td>How is the life of a math student? Could you d...</td>\n",
       "      <td>Which level of prepration is enough for the ex...</td>\n",
       "      <td>0.0</td>\n",
       "    </tr>\n",
       "    <tr>\n",
       "      <th>1</th>\n",
       "      <td>402555</td>\n",
       "      <td>536040</td>\n",
       "      <td>536041.0</td>\n",
       "      <td>How do I control my horny emotions?</td>\n",
       "      <td>How do you control your horniness?</td>\n",
       "      <td>1.0</td>\n",
       "    </tr>\n",
       "    <tr>\n",
       "      <th>2</th>\n",
       "      <td>360472</td>\n",
       "      <td>364011</td>\n",
       "      <td>490273.0</td>\n",
       "      <td>What causes stool color to change to yellow?</td>\n",
       "      <td>What can cause stool to come out as little balls?</td>\n",
       "      <td>0.0</td>\n",
       "    </tr>\n",
       "    <tr>\n",
       "      <th>3</th>\n",
       "      <td>150662</td>\n",
       "      <td>155721</td>\n",
       "      <td>7256.0</td>\n",
       "      <td>What can one do after MBBS?</td>\n",
       "      <td>What do i do after my MBBS ?</td>\n",
       "      <td>1.0</td>\n",
       "    </tr>\n",
       "    <tr>\n",
       "      <th>4</th>\n",
       "      <td>183004</td>\n",
       "      <td>279958</td>\n",
       "      <td>279959.0</td>\n",
       "      <td>Where can I find a power outlet for my laptop ...</td>\n",
       "      <td>Would a second airport in Sydney, Australia be...</td>\n",
       "      <td>0.0</td>\n",
       "    </tr>\n",
       "  </tbody>\n",
       "</table>\n",
       "</div>"
      ],
      "text/plain": [
       "       id    qid1      qid2  \\\n",
       "0  133273  213221  213222.0   \n",
       "1  402555  536040  536041.0   \n",
       "2  360472  364011  490273.0   \n",
       "3  150662  155721    7256.0   \n",
       "4  183004  279958  279959.0   \n",
       "\n",
       "                                           question1  \\\n",
       "0  How is the life of a math student? Could you d...   \n",
       "1                How do I control my horny emotions?   \n",
       "2       What causes stool color to change to yellow?   \n",
       "3                        What can one do after MBBS?   \n",
       "4  Where can I find a power outlet for my laptop ...   \n",
       "\n",
       "                                           question2  is_duplicate  \n",
       "0  Which level of prepration is enough for the ex...           0.0  \n",
       "1                 How do you control your horniness?           1.0  \n",
       "2  What can cause stool to come out as little balls?           0.0  \n",
       "3                       What do i do after my MBBS ?           1.0  \n",
       "4  Would a second airport in Sydney, Australia be...           0.0  "
      ]
     },
     "execution_count": 328,
     "metadata": {},
     "output_type": "execute_result"
    }
   ],
   "source": [
    "unprocessed_df.head()"
   ]
  },
  {
   "cell_type": "code",
   "execution_count": 329,
   "id": "ef11e1cc",
   "metadata": {},
   "outputs": [],
   "source": [
    "embeddings_dict = {}\n",
    "with open('../data/glove.6B.50d.txt', 'r') as f:\n",
    "    for line in f:\n",
    "        values = line.split()\n",
    "        word = values[0]\n",
    "        vector = np.asarray(values[1:], \"float32\")\n",
    "        embeddings_dict[word] = vector"
   ]
  },
  {
   "cell_type": "code",
   "execution_count": 330,
   "id": "82263a5e",
   "metadata": {},
   "outputs": [
    {
     "data": {
      "text/plain": [
       "(50,)"
      ]
     },
     "execution_count": 330,
     "metadata": {},
     "output_type": "execute_result"
    }
   ],
   "source": [
    "#example vector embedding\n",
    "v = embeddings_dict['king']\n",
    "v.shape"
   ]
  },
  {
   "cell_type": "code",
   "execution_count": 331,
   "id": "93b190bc",
   "metadata": {},
   "outputs": [
    {
     "name": "stderr",
     "output_type": "stream",
     "text": [
      "[nltk_data] Downloading package stopwords to /home/jovyan/nltk_data...\n",
      "[nltk_data]   Package stopwords is already up-to-date!\n"
     ]
    }
   ],
   "source": [
    "#lower casing\n",
    "def lower_case(text):\n",
    "    return text.lower()\n",
    "\n",
    "\n",
    "#remove numbers\n",
    "def remove_numbers(text):\n",
    "    output = re.sub(r'\\d+', '', text)\n",
    "    return output\n",
    "\n",
    "# remove punctuation\n",
    "import string\n",
    "def remove_punctuation(text):\n",
    "    text_p = \"\".join([char for char in text if char not in string.punctuation])\n",
    "    return text_p\n",
    "\n",
    "#remove stopwords\n",
    "\n",
    "nltk.download('stopwords')\n",
    "stop_words = stopwords.words('english')\n",
    "\n",
    "def remove_stopwords(text):\n",
    "    \n",
    "    text_p = \" \".join([word for word in text.split() if word not in stop_words])\n",
    "    \n",
    "    return text_p\n",
    "\n",
    "from nltk.stem import WordNetLemmatizer \n",
    "from nltk.corpus import wordnet\n",
    "\n",
    "def get_wordnet_pos(word):\n",
    "    \"\"\"Map POS tag to first character lemmatize() accepts\"\"\"\n",
    "    tag = nltk.pos_tag([word])[0][1][0].upper()\n",
    "    tag_dict = {\"J\": wordnet.ADJ,\n",
    "                \"N\": wordnet.NOUN,\n",
    "                \"V\": wordnet.VERB,\n",
    "                \"R\": wordnet.ADV}\n",
    "\n",
    "    return tag_dict.get(tag, wordnet.NOUN)\n",
    "\n",
    "lemmatizer = WordNetLemmatizer()\n",
    "\n",
    "def lemmatize(text):\n",
    "    lemmatized = [lemmatizer.lemmatize(w, get_wordnet_pos(w)) for w in text.split()]\n",
    "    text_p = \" \".join(lemmatized)\n",
    "    return text_p\n",
    "\n",
    "\n"
   ]
  },
  {
   "cell_type": "code",
   "execution_count": 332,
   "id": "b8e7d305",
   "metadata": {},
   "outputs": [],
   "source": [
    "class Preprocessor():\n",
    "    def __init__(self):\n",
    "        pass\n",
    "    \n",
    "    def preprocess(self,df_column, steps):\n",
    "        self.df_column = df_column\n",
    "        self.steps = steps\n",
    "    \n",
    "        if 'lower_case' in self.steps:\n",
    "            self.df_column = self.df_column.apply(lambda x: lower_case(x))\n",
    "        \n",
    "        if 'remove_numbers' in self.steps:\n",
    "            self.df_column = self.df_column.apply(lambda x: remove_numbers(x))\n",
    "        \n",
    "        if 'remove_punctuation' in self.steps:\n",
    "            self.df_column = self.df_column.apply(lambda x: remove_punctuation(x))           \n",
    "         \n",
    "        if 'stopwords' in self.steps:\n",
    "            self.df_column = self.df_column.apply(lambda x: remove_stopwords(x))\n",
    "            \n",
    "        if 'lemmatize' in self.steps:\n",
    "            self.df_column = self.df_column.apply(lambda x: lemmatize(x))    \n",
    "                \n",
    "            \n",
    "        \n",
    "        return self.df_column\n",
    "    "
   ]
  },
  {
   "cell_type": "code",
   "execution_count": 342,
   "id": "92e4fa20",
   "metadata": {},
   "outputs": [
    {
     "data": {
      "text/html": [
       "<div>\n",
       "<style scoped>\n",
       "    .dataframe tbody tr th:only-of-type {\n",
       "        vertical-align: middle;\n",
       "    }\n",
       "\n",
       "    .dataframe tbody tr th {\n",
       "        vertical-align: top;\n",
       "    }\n",
       "\n",
       "    .dataframe thead th {\n",
       "        text-align: right;\n",
       "    }\n",
       "</style>\n",
       "<table border=\"1\" class=\"dataframe\">\n",
       "  <thead>\n",
       "    <tr style=\"text-align: right;\">\n",
       "      <th></th>\n",
       "      <th>id</th>\n",
       "      <th>qid1</th>\n",
       "      <th>qid2</th>\n",
       "      <th>question1</th>\n",
       "      <th>question2</th>\n",
       "      <th>is_duplicate</th>\n",
       "    </tr>\n",
       "  </thead>\n",
       "  <tbody>\n",
       "    <tr>\n",
       "      <th>0</th>\n",
       "      <td>133273</td>\n",
       "      <td>213221</td>\n",
       "      <td>213222.0</td>\n",
       "      <td>How is the life of a math student? Could you d...</td>\n",
       "      <td>Which level of prepration is enough for the ex...</td>\n",
       "      <td>0.0</td>\n",
       "    </tr>\n",
       "    <tr>\n",
       "      <th>1</th>\n",
       "      <td>402555</td>\n",
       "      <td>536040</td>\n",
       "      <td>536041.0</td>\n",
       "      <td>How do I control my horny emotions?</td>\n",
       "      <td>How do you control your horniness?</td>\n",
       "      <td>1.0</td>\n",
       "    </tr>\n",
       "    <tr>\n",
       "      <th>2</th>\n",
       "      <td>360472</td>\n",
       "      <td>364011</td>\n",
       "      <td>490273.0</td>\n",
       "      <td>What causes stool color to change to yellow?</td>\n",
       "      <td>What can cause stool to come out as little balls?</td>\n",
       "      <td>0.0</td>\n",
       "    </tr>\n",
       "    <tr>\n",
       "      <th>3</th>\n",
       "      <td>150662</td>\n",
       "      <td>155721</td>\n",
       "      <td>7256.0</td>\n",
       "      <td>What can one do after MBBS?</td>\n",
       "      <td>What do i do after my MBBS ?</td>\n",
       "      <td>1.0</td>\n",
       "    </tr>\n",
       "    <tr>\n",
       "      <th>4</th>\n",
       "      <td>183004</td>\n",
       "      <td>279958</td>\n",
       "      <td>279959.0</td>\n",
       "      <td>Where can I find a power outlet for my laptop ...</td>\n",
       "      <td>Would a second airport in Sydney, Australia be...</td>\n",
       "      <td>0.0</td>\n",
       "    </tr>\n",
       "  </tbody>\n",
       "</table>\n",
       "</div>"
      ],
      "text/plain": [
       "       id    qid1      qid2  \\\n",
       "0  133273  213221  213222.0   \n",
       "1  402555  536040  536041.0   \n",
       "2  360472  364011  490273.0   \n",
       "3  150662  155721    7256.0   \n",
       "4  183004  279958  279959.0   \n",
       "\n",
       "                                           question1  \\\n",
       "0  How is the life of a math student? Could you d...   \n",
       "1                How do I control my horny emotions?   \n",
       "2       What causes stool color to change to yellow?   \n",
       "3                        What can one do after MBBS?   \n",
       "4  Where can I find a power outlet for my laptop ...   \n",
       "\n",
       "                                           question2  is_duplicate  \n",
       "0  Which level of prepration is enough for the ex...           0.0  \n",
       "1                 How do you control your horniness?           1.0  \n",
       "2  What can cause stool to come out as little balls?           0.0  \n",
       "3                       What do i do after my MBBS ?           1.0  \n",
       "4  Would a second airport in Sydney, Australia be...           0.0  "
      ]
     },
     "execution_count": 342,
     "metadata": {},
     "output_type": "execute_result"
    }
   ],
   "source": [
    "df = unprocessed_df.copy()\n",
    "df = df.reset_index(drop=True)\n",
    "df.head()"
   ]
  },
  {
   "cell_type": "code",
   "execution_count": 343,
   "id": "1254d5d5",
   "metadata": {},
   "outputs": [],
   "source": [
    "steps = ['lower_case','remove_numbers','remove_punctuation','lemmatize']\n",
    "\n",
    "processor = Preprocessor()\n",
    "df['question1'] = processor.preprocess(df['question1'] ,steps)\n",
    "df['question2'] = processor.preprocess(df['question2'] ,steps)"
   ]
  },
  {
   "cell_type": "code",
   "execution_count": 344,
   "id": "299bed93",
   "metadata": {},
   "outputs": [
    {
     "data": {
      "text/html": [
       "<div>\n",
       "<style scoped>\n",
       "    .dataframe tbody tr th:only-of-type {\n",
       "        vertical-align: middle;\n",
       "    }\n",
       "\n",
       "    .dataframe tbody tr th {\n",
       "        vertical-align: top;\n",
       "    }\n",
       "\n",
       "    .dataframe thead th {\n",
       "        text-align: right;\n",
       "    }\n",
       "</style>\n",
       "<table border=\"1\" class=\"dataframe\">\n",
       "  <thead>\n",
       "    <tr style=\"text-align: right;\">\n",
       "      <th></th>\n",
       "      <th>id</th>\n",
       "      <th>qid1</th>\n",
       "      <th>qid2</th>\n",
       "      <th>question1</th>\n",
       "      <th>question2</th>\n",
       "      <th>is_duplicate</th>\n",
       "    </tr>\n",
       "  </thead>\n",
       "  <tbody>\n",
       "    <tr>\n",
       "      <th>0</th>\n",
       "      <td>133273</td>\n",
       "      <td>213221</td>\n",
       "      <td>213222.0</td>\n",
       "      <td>how be the life of a math student could you de...</td>\n",
       "      <td>which level of prepration be enough for the ex...</td>\n",
       "      <td>0.0</td>\n",
       "    </tr>\n",
       "    <tr>\n",
       "      <th>1</th>\n",
       "      <td>402555</td>\n",
       "      <td>536040</td>\n",
       "      <td>536041.0</td>\n",
       "      <td>how do i control my horny emotion</td>\n",
       "      <td>how do you control your horniness</td>\n",
       "      <td>1.0</td>\n",
       "    </tr>\n",
       "  </tbody>\n",
       "</table>\n",
       "</div>"
      ],
      "text/plain": [
       "       id    qid1      qid2  \\\n",
       "0  133273  213221  213222.0   \n",
       "1  402555  536040  536041.0   \n",
       "\n",
       "                                           question1  \\\n",
       "0  how be the life of a math student could you de...   \n",
       "1                  how do i control my horny emotion   \n",
       "\n",
       "                                           question2  is_duplicate  \n",
       "0  which level of prepration be enough for the ex...           0.0  \n",
       "1                  how do you control your horniness           1.0  "
      ]
     },
     "execution_count": 344,
     "metadata": {},
     "output_type": "execute_result"
    }
   ],
   "source": [
    "df.head(2)"
   ]
  },
  {
   "cell_type": "code",
   "execution_count": 345,
   "id": "d9196bf4",
   "metadata": {},
   "outputs": [
    {
     "data": {
      "text/html": [
       "<div>\n",
       "<style scoped>\n",
       "    .dataframe tbody tr th:only-of-type {\n",
       "        vertical-align: middle;\n",
       "    }\n",
       "\n",
       "    .dataframe tbody tr th {\n",
       "        vertical-align: top;\n",
       "    }\n",
       "\n",
       "    .dataframe thead th {\n",
       "        text-align: right;\n",
       "    }\n",
       "</style>\n",
       "<table border=\"1\" class=\"dataframe\">\n",
       "  <thead>\n",
       "    <tr style=\"text-align: right;\">\n",
       "      <th></th>\n",
       "      <th>qid1</th>\n",
       "      <th>question1</th>\n",
       "      <th>qid2</th>\n",
       "      <th>question2</th>\n",
       "      <th>is_duplicate</th>\n",
       "    </tr>\n",
       "  </thead>\n",
       "  <tbody>\n",
       "    <tr>\n",
       "      <th>0</th>\n",
       "      <td>536040</td>\n",
       "      <td>how do i control my horny emotion</td>\n",
       "      <td>536041.0</td>\n",
       "      <td>how do you control your horniness</td>\n",
       "      <td>1.0</td>\n",
       "    </tr>\n",
       "    <tr>\n",
       "      <th>1</th>\n",
       "      <td>155721</td>\n",
       "      <td>what can one do after mbbs</td>\n",
       "      <td>7256.0</td>\n",
       "      <td>what do i do after my mbbs</td>\n",
       "      <td>1.0</td>\n",
       "    </tr>\n",
       "  </tbody>\n",
       "</table>\n",
       "</div>"
      ],
      "text/plain": [
       "     qid1                          question1      qid2  \\\n",
       "0  536040  how do i control my horny emotion  536041.0   \n",
       "1  155721         what can one do after mbbs    7256.0   \n",
       "\n",
       "                           question2  is_duplicate  \n",
       "0  how do you control your horniness           1.0  \n",
       "1         what do i do after my mbbs           1.0  "
      ]
     },
     "execution_count": 345,
     "metadata": {},
     "output_type": "execute_result"
    }
   ],
   "source": [
    "#create dataframe of top 100 queries that have label = 1\n",
    "queries = df[df['is_duplicate'] == 1][:100]\n",
    "queries = queries[['qid1','question1','qid2','question2', 'is_duplicate']]\n",
    "queries = queries.reset_index(drop=True)\n",
    "queries.head(2)"
   ]
  },
  {
   "cell_type": "code",
   "execution_count": 346,
   "id": "c78b8398",
   "metadata": {},
   "outputs": [],
   "source": [
    "class GloveVectorizer():\n",
    "    def __init__(self):\n",
    "        pass\n",
    "        \n",
    "    def transform(self,embeddings,data):\n",
    "        self.embeddings = embeddings\n",
    "        self.data = data\n",
    "        #get dimensionality of word embeddings\n",
    "        v = self.embeddings['king']\n",
    "        self.D = v.shape[0]\n",
    "        \n",
    "        X = np.zeros(shape = (len(data),self.D))\n",
    "        \n",
    "        for i in range(len(data)):\n",
    "            sentence = data[i]\n",
    "            words = sentence.split()\n",
    "            vectors = []\n",
    "            for word in words:\n",
    "                try:\n",
    "                    v = self.embeddings[word]\n",
    "                    vectors.append(v)\n",
    "                except KeyError:\n",
    "                    pass\n",
    "            vectors = np.array(vectors)\n",
    "            if len(vectors) >0:\n",
    "                sentence_embedding = np.mean(vectors, axis=0).reshape(1,-1)\n",
    "                X[i,:] = sentence_embedding\n",
    "            \n",
    "        return X    \n",
    "                    "
   ]
  },
  {
   "cell_type": "code",
   "execution_count": 347,
   "id": "82b317aa",
   "metadata": {},
   "outputs": [
    {
     "data": {
      "text/plain": [
       "273121"
      ]
     },
     "execution_count": 347,
     "metadata": {},
     "output_type": "execute_result"
    }
   ],
   "source": [
    "corpus = df[['qid2','question2']]\n",
    "corpus = corpus.drop_duplicates('qid2').reset_index(drop=True)\n",
    "len(corpus)"
   ]
  },
  {
   "cell_type": "code",
   "execution_count": 348,
   "id": "5629b747",
   "metadata": {},
   "outputs": [],
   "source": [
    "gv = GloveVectorizer()\n",
    "X_train = gv.transform(embeddings_dict,corpus['question2'])\n",
    "X_test = gv.transform(embeddings_dict,queries['question1'])"
   ]
  },
  {
   "cell_type": "code",
   "execution_count": 349,
   "id": "d1885f2d",
   "metadata": {},
   "outputs": [],
   "source": [
    "#calculate cosine similarity between each query and all responses. \n",
    "#Rank responses in terms of cosine similarity\n",
    "\n",
    "def cos_sim(vector1,vector2):\n",
    "    cosine_similarity = np.dot(vector1,vector2)/(np.linalg.norm(vector1,ord=2)*np.linalg.norm(vector2,ord=2))\n",
    "    return cosine_similarity\n",
    "\n",
    "def retreive_unprocessed_question(question_qid, question_type):\n",
    "    if question_type == 'query':\n",
    "        unprocessed_question = unprocessed_df.loc[unprocessed_df['qid1']==question_qid, 'question1'].iloc[0]\n",
    "    else:\n",
    "        unprocessed_question = unprocessed_df.loc[unprocessed_df['qid2']==question_qid, 'question2'].iloc[0]\n",
    "    \n",
    "    return unprocessed_question\n",
    "\n",
    "\n",
    "def get_matched_responses(query_index, number_of_responses, print_results = False):\n",
    "    \n",
    "    query_qid = queries.loc[query_index,'qid1']\n",
    "    actual_response_id = queries.loc[query_index,'qid2']\n",
    "    \n",
    "    similarities = []\n",
    "    for r in range(len(X_train)):\n",
    "        cosine_sim = cos_sim(X_test[query_index,:],X_train[r,:])\n",
    "        similarities.append(cosine_sim)\n",
    "    similarities = np.array(similarities)\n",
    "    similarities = np.nan_to_num(similarities,nan=-9999) #replace nans with large negative number\n",
    "    sorted_sim = similarities.argsort()[::-1][:number_of_responses]\n",
    "    \n",
    "    matched_responses = []\n",
    "    for corpus_id in sorted_sim:\n",
    "        response_qid2 = corpus.loc[corpus_id,'qid2']\n",
    "        matched_responses.append(response_qid2)\n",
    "        \n",
    "        \n",
    "        \n",
    "    if print_results:\n",
    "        print('Query')\n",
    "        print(retreive_unprocessed_question(query_qid,'query'))\n",
    "        print()\n",
    "        print('Ground truth (actual) response')\n",
    "        print(retreive_unprocessed_question(actual_response_id,'response'))\n",
    "        print()\n",
    "        print('Top {} matching responses'.format(number_of_responses))\n",
    "        for response in matched_responses:\n",
    "            print(retreive_unprocessed_question(response,'response'))\n",
    "    else:        \n",
    "        \n",
    "        return matched_responses \n",
    "\n"
   ]
  },
  {
   "cell_type": "code",
   "execution_count": 370,
   "id": "b37e96c4",
   "metadata": {},
   "outputs": [
    {
     "name": "stderr",
     "output_type": "stream",
     "text": [
      "<ipython-input-349-c39631873572>:5: RuntimeWarning: invalid value encountered in double_scalars\n",
      "  cosine_similarity = np.dot(vector1,vector2)/(np.linalg.norm(vector1,ord=2)*np.linalg.norm(vector2,ord=2))\n"
     ]
    },
    {
     "name": "stdout",
     "output_type": "stream",
     "text": [
      "Query\n",
      "What are the coolest Android hacks and tricks you know?\n",
      "\n",
      "Ground truth (actual) response\n",
      "What are some cool hacks for Android phones?\n",
      "\n",
      "Top 5 matching responses\n",
      "What's the Android game you want to be hacked most?\n",
      "How do I hack android games? I have rooted device!\n",
      "How do I hack online games when my device is rooted?\n",
      "How do I make a pc game?\n",
      "How can I make a gaming app?\n"
     ]
    }
   ],
   "source": [
    "get_matched_responses(5,5,True)"
   ]
  },
  {
   "cell_type": "code",
   "execution_count": 362,
   "id": "88a79084",
   "metadata": {},
   "outputs": [
    {
     "name": "stderr",
     "output_type": "stream",
     "text": [
      "<ipython-input-349-c39631873572>:5: RuntimeWarning: invalid value encountered in double_scalars\n",
      "  cosine_similarity = np.dot(vector1,vector2)/(np.linalg.norm(vector1,ord=2)*np.linalg.norm(vector2,ord=2))\n"
     ]
    }
   ],
   "source": [
    "top5 = []\n",
    "for query_index in range(len(queries)):\n",
    "    actual_response_id = queries.loc[query_index,'qid2']\n",
    "    top5_ranked = get_matched_responses(query_index,5,False)     \n",
    "    if actual_response_id in top5_ranked:\n",
    "        top5.append(1.0)\n",
    "    else:\n",
    "        top5.append(0.0)\n",
    "        \n",
    "        "
   ]
  },
  {
   "cell_type": "code",
   "execution_count": 363,
   "id": "29efa2dd",
   "metadata": {},
   "outputs": [
    {
     "data": {
      "text/plain": [
       "100"
      ]
     },
     "execution_count": 363,
     "metadata": {},
     "output_type": "execute_result"
    }
   ],
   "source": [
    "len(top5)"
   ]
  },
  {
   "cell_type": "code",
   "execution_count": 369,
   "id": "90597451",
   "metadata": {},
   "outputs": [
    {
     "data": {
      "text/plain": [
       "0.36"
      ]
     },
     "execution_count": 369,
     "metadata": {},
     "output_type": "execute_result"
    }
   ],
   "source": [
    "from sklearn.metrics import accuracy_score\n",
    "accuracy_score(queries['is_duplicate'],top5)"
   ]
  },
  {
   "cell_type": "code",
   "execution_count": null,
   "id": "af4c76db",
   "metadata": {},
   "outputs": [],
   "source": []
  }
 ],
 "metadata": {
  "kernelspec": {
   "display_name": "Python 3",
   "language": "python",
   "name": "python3"
  },
  "language_info": {
   "codemirror_mode": {
    "name": "ipython",
    "version": 3
   },
   "file_extension": ".py",
   "mimetype": "text/x-python",
   "name": "python",
   "nbconvert_exporter": "python",
   "pygments_lexer": "ipython3",
   "version": "3.8.8"
  }
 },
 "nbformat": 4,
 "nbformat_minor": 5
}
